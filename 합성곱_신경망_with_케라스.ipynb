{
  "nbformat": 4,
  "nbformat_minor": 0,
  "metadata": {
    "colab": {
      "name": "합성곱 신경망 with 케라스.ipynb",
      "provenance": [],
      "collapsed_sections": [],
      "authorship_tag": "ABX9TyNhM/PowHwys+YjeBZ7UPaQ",
      "include_colab_link": true
    },
    "kernelspec": {
      "name": "python3",
      "display_name": "Python 3"
    }
  },
  "cells": [
    {
      "cell_type": "markdown",
      "metadata": {
        "id": "view-in-github",
        "colab_type": "text"
      },
      "source": [
        "<a href=\"https://colab.research.google.com/github/jee9894/DeepLearningStudy/blob/master/%ED%95%A9%EC%84%B1%EA%B3%B1_%EC%8B%A0%EA%B2%BD%EB%A7%9D_with_%EC%BC%80%EB%9D%BC%EC%8A%A4.ipynb\" target=\"_parent\"><img src=\"https://colab.research.google.com/assets/colab-badge.svg\" alt=\"Open In Colab\"/></a>"
      ]
    },
    {
      "cell_type": "code",
      "metadata": {
        "id": "y1Z4jPQVehf8",
        "colab_type": "code",
        "colab": {}
      },
      "source": [
        "import tensorflow as tf\n",
        "import numpy as np\n",
        "import matplotlib.pyplot as plt\n",
        "from tensorflow.keras.layers import Conv2D, MaxPooling2D, Flatten, Dense\n",
        "\n",
        "# MNIST 패션 이미지 데이터 불러오기\n",
        "(x_train_all, y_train_all), (x_test, y_test) = tf.keras.datasets.fashion_mnist.load_data()\n",
        "\n",
        "from sklearn.model_selection import train_test_split\n",
        "\n",
        "# 훈련세트와 검증세트로 분류\n",
        "x_train, x_val, y_train, y_val = train_test_split(x_train_all, y_train_all, stratify=y_train_all, \n",
        "                                                  test_size=0.2, random_state=42)\n",
        "\n",
        "# 원-핫 인코딩\n",
        "y_train_encoded = tf.keras.utils.to_categorical(y_train)\n",
        "y_val_encoded = tf.keras.utils.to_categorical(y_val)\n",
        "\n",
        "# 4차원으로 조정 (배치 차원, 이미지 행, 이미지 열, 컬러 채널)\n",
        "x_train = x_train.reshape(-1, 28, 28, 1)\n",
        "x_val = x_val.reshape(-1, 28, 28, 1)\n",
        "\n",
        "# 이미지 정규화 (0~255값을 255로 나눔)\n",
        "x_train = x_train / 255\n",
        "x_val = x_val / 255\n",
        "\n",
        "# 케라스로 Sequential클래스 생성\n",
        "conv1 = tf.keras.Sequential()\n",
        "# 3X3 크기의 합성곱 커널 10개, 활성화함수 : ReLU, 패딩 : same padding, MNIST이미지의 높이,너비,컬러 채널\n",
        "conv1.add(Conv2D(10, (3, 3), activation='relu', padding='same', input_shape=(28, 28, 1)))"
      ],
      "execution_count": 0,
      "outputs": []
    },
    {
      "cell_type": "code",
      "metadata": {
        "id": "w_2pGBlG8lmR",
        "colab_type": "code",
        "colab": {}
      },
      "source": [
        "# 풀링층 추가\n",
        "# 스트라이드 기본값 : 풀링의 크기\n",
        "# padding 기본값  : valid\n",
        "conv1.add(MaxPooling2D((2, 2)))"
      ],
      "execution_count": 0,
      "outputs": []
    },
    {
      "cell_type": "code",
      "metadata": {
        "id": "QlE2TjgV966D",
        "colab_type": "code",
        "colab": {}
      },
      "source": [
        "# 완전 연결층에 주입할 특성 맵 펼치기\n",
        "conv1.add(Flatten())"
      ],
      "execution_count": 0,
      "outputs": []
    },
    {
      "cell_type": "code",
      "metadata": {
        "id": "2exAJnMZ-NF1",
        "colab_type": "code",
        "colab": {}
      },
      "source": [
        "# 완전 연결층 쌓기\n",
        "conv1.add(Dense(100, activation='relu'))\n",
        "conv1.add(Dense(10, activation='softmax'))"
      ],
      "execution_count": 0,
      "outputs": []
    },
    {
      "cell_type": "code",
      "metadata": {
        "id": "4MU0KdTn-Wlz",
        "colab_type": "code",
        "outputId": "685ddc69-be9e-47f7-9c22-e6d870d7164b",
        "colab": {
          "base_uri": "https://localhost:8080/",
          "height": 341
        }
      },
      "source": [
        "# 모델 구조 살펴보기\n",
        "conv1.summary()"
      ],
      "execution_count": 0,
      "outputs": [
        {
          "output_type": "stream",
          "text": [
            "Model: \"sequential\"\n",
            "_________________________________________________________________\n",
            "Layer (type)                 Output Shape              Param #   \n",
            "=================================================================\n",
            "conv2d (Conv2D)              (None, 28, 28, 10)        100       \n",
            "_________________________________________________________________\n",
            "max_pooling2d (MaxPooling2D) (None, 14, 14, 10)        0         \n",
            "_________________________________________________________________\n",
            "flatten (Flatten)            (None, 1960)              0         \n",
            "_________________________________________________________________\n",
            "dense (Dense)                (None, 100)               196100    \n",
            "_________________________________________________________________\n",
            "dense_1 (Dense)              (None, 10)                1010      \n",
            "=================================================================\n",
            "Total params: 197,210\n",
            "Trainable params: 197,210\n",
            "Non-trainable params: 0\n",
            "_________________________________________________________________\n"
          ],
          "name": "stdout"
        }
      ]
    },
    {
      "cell_type": "code",
      "metadata": {
        "id": "iiGRqhbX-cge",
        "colab_type": "code",
        "colab": {}
      },
      "source": [
        "# 최적화 함수 : adam(Adaptive Moment Estimation:적응적 학습)\n",
        "# 손실함수 : 크로스 엔트로피 손실함수\n",
        "conv1.compile(optimizer='adam', loss='categorical_crossentropy', metrics=['accuracy'])"
      ],
      "execution_count": 0,
      "outputs": []
    },
    {
      "cell_type": "code",
      "metadata": {
        "id": "RqjyuqbM_aut",
        "colab_type": "code",
        "outputId": "20b7fabd-4cfe-475c-c421-942f5872e802",
        "colab": {
          "base_uri": "https://localhost:8080/",
          "height": 737
        }
      },
      "source": [
        "history = conv1.fit(x_train, y_train_encoded, epochs=20, validation_data=(x_val, y_val_encoded))"
      ],
      "execution_count": 0,
      "outputs": [
        {
          "output_type": "stream",
          "text": [
            "Epoch 1/20\n",
            "1500/1500 [==============================] - 21s 14ms/step - loss: 0.4435 - accuracy: 0.8445 - val_loss: 0.3448 - val_accuracy: 0.8820\n",
            "Epoch 2/20\n",
            "1500/1500 [==============================] - 21s 14ms/step - loss: 0.3010 - accuracy: 0.8924 - val_loss: 0.3013 - val_accuracy: 0.8935\n",
            "Epoch 3/20\n",
            "1500/1500 [==============================] - 21s 14ms/step - loss: 0.2575 - accuracy: 0.9055 - val_loss: 0.2667 - val_accuracy: 0.9037\n",
            "Epoch 4/20\n",
            "1500/1500 [==============================] - 21s 14ms/step - loss: 0.2272 - accuracy: 0.9159 - val_loss: 0.2562 - val_accuracy: 0.9081\n",
            "Epoch 5/20\n",
            "1500/1500 [==============================] - 21s 14ms/step - loss: 0.2028 - accuracy: 0.9242 - val_loss: 0.2462 - val_accuracy: 0.9121\n",
            "Epoch 6/20\n",
            "1500/1500 [==============================] - 21s 14ms/step - loss: 0.1816 - accuracy: 0.9320 - val_loss: 0.2421 - val_accuracy: 0.9147\n",
            "Epoch 7/20\n",
            "1500/1500 [==============================] - 21s 14ms/step - loss: 0.1633 - accuracy: 0.9388 - val_loss: 0.2401 - val_accuracy: 0.9170\n",
            "Epoch 8/20\n",
            "1500/1500 [==============================] - 21s 14ms/step - loss: 0.1450 - accuracy: 0.9463 - val_loss: 0.2702 - val_accuracy: 0.9071\n",
            "Epoch 9/20\n",
            "1500/1500 [==============================] - 21s 14ms/step - loss: 0.1314 - accuracy: 0.9513 - val_loss: 0.2722 - val_accuracy: 0.9147\n",
            "Epoch 10/20\n",
            "1500/1500 [==============================] - 21s 14ms/step - loss: 0.1154 - accuracy: 0.9583 - val_loss: 0.2777 - val_accuracy: 0.9134\n",
            "Epoch 11/20\n",
            "1500/1500 [==============================] - 21s 14ms/step - loss: 0.1046 - accuracy: 0.9611 - val_loss: 0.2617 - val_accuracy: 0.9207\n",
            "Epoch 12/20\n",
            "1500/1500 [==============================] - 21s 14ms/step - loss: 0.0929 - accuracy: 0.9660 - val_loss: 0.2744 - val_accuracy: 0.9193\n",
            "Epoch 13/20\n",
            "1500/1500 [==============================] - 21s 14ms/step - loss: 0.0809 - accuracy: 0.9707 - val_loss: 0.3080 - val_accuracy: 0.9131\n",
            "Epoch 14/20\n",
            "1500/1500 [==============================] - 21s 14ms/step - loss: 0.0724 - accuracy: 0.9732 - val_loss: 0.3057 - val_accuracy: 0.9197\n",
            "Epoch 15/20\n",
            "1500/1500 [==============================] - 21s 14ms/step - loss: 0.0661 - accuracy: 0.9762 - val_loss: 0.3245 - val_accuracy: 0.9175\n",
            "Epoch 16/20\n",
            "1500/1500 [==============================] - 21s 14ms/step - loss: 0.0561 - accuracy: 0.9797 - val_loss: 0.3315 - val_accuracy: 0.9172\n",
            "Epoch 17/20\n",
            "1500/1500 [==============================] - 21s 14ms/step - loss: 0.0527 - accuracy: 0.9803 - val_loss: 0.3391 - val_accuracy: 0.9178\n",
            "Epoch 18/20\n",
            "1500/1500 [==============================] - 21s 14ms/step - loss: 0.0454 - accuracy: 0.9836 - val_loss: 0.3908 - val_accuracy: 0.9109\n",
            "Epoch 19/20\n",
            "1500/1500 [==============================] - 21s 14ms/step - loss: 0.0416 - accuracy: 0.9854 - val_loss: 0.3929 - val_accuracy: 0.9143\n",
            "Epoch 20/20\n",
            "1500/1500 [==============================] - 21s 14ms/step - loss: 0.0365 - accuracy: 0.9870 - val_loss: 0.4160 - val_accuracy: 0.9148\n"
          ],
          "name": "stdout"
        }
      ]
    },
    {
      "cell_type": "code",
      "metadata": {
        "id": "3rZd1Fx2DezO",
        "colab_type": "code",
        "outputId": "0d956b55-9445-46d1-dbd1-3a297cad73f6",
        "colab": {
          "base_uri": "https://localhost:8080/",
          "height": 279
        }
      },
      "source": [
        "# 에포크당 손실\n",
        "plt.plot(history.history['loss'])\n",
        "plt.plot(history.history['val_loss'])\n",
        "plt.ylabel('loss')\n",
        "plt.xlabel('epoch')\n",
        "plt.legend(['train_loss', 'val_loss'])\n",
        "plt.show()"
      ],
      "execution_count": 0,
      "outputs": [
        {
          "output_type": "display_data",
          "data": {
            "image/png": "[encoded data removed]",
            "text/plain": [
              "<Figure size 432x288 with 1 Axes>"
            ]
          },
          "metadata": {
            "tags": [],
            "needs_background": "light"
          }
        }
      ]
    },
    {
      "cell_type": "code",
      "metadata": {
        "id": "Nm8tHUPhD2Fr",
        "colab_type": "code",
        "outputId": "5850eb39-d40d-465f-d2ca-98085caafb10",
        "colab": {
          "base_uri": "https://localhost:8080/",
          "height": 279
        }
      },
      "source": [
        "# 에포크당 정확도\n",
        "plt.plot(history.history['accuracy'])\n",
        "plt.plot(history.history['val_accuracy'])\n",
        "plt.ylabel('loss')\n",
        "plt.xlabel('epoch')\n",
        "plt.legend(['train_accuracy', 'val_accuracy'])\n",
        "plt.show()"
      ],
      "execution_count": 0,
      "outputs": [
        {
          "output_type": "display_data",
          "data": {
            "image/png": "[encoded data removed]",
            "text/plain": [
              "<Figure size 432x288 with 1 Axes>"
            ]
          },
          "metadata": {
            "tags": [],
            "needs_background": "light"
          }
        }
      ]
    },
    {
      "cell_type": "code",
      "metadata": {
        "id": "XgVim7dRD3hw",
        "colab_type": "code",
        "colab": {}
      },
      "source": [
        ""
      ],
      "execution_count": 0,
      "outputs": []
    }
  ]
}