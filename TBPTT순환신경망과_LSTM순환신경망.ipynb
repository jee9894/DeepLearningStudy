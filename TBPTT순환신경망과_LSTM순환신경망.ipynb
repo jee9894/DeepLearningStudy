{
  "nbformat": 4,
  "nbformat_minor": 0,
  "metadata": {
    "colab": {
      "name": "TBPTT순환신경망과 LSTM순환신경망.ipynb",
      "provenance": [],
      "authorship_tag": "ABX9TyNt9G9MzlXa+POL0Q6AuirA",
      "include_colab_link": true
    },
    "kernelspec": {
      "name": "python3",
      "display_name": "Python 3"
    }
  },
  "cells": [
    {
      "cell_type": "markdown",
      "metadata": {
        "id": "view-in-github",
        "colab_type": "text"
      },
      "source": [
        "<a href=\"https://colab.research.google.com/github/jee9894/DeepLearningStudy/blob/master/TBPTT%EC%88%9C%ED%99%98%EC%8B%A0%EA%B2%BD%EB%A7%9D%EA%B3%BC_LSTM%EC%88%9C%ED%99%98%EC%8B%A0%EA%B2%BD%EB%A7%9D.ipynb\" target=\"_parent\"><img src=\"https://colab.research.google.com/assets/colab-badge.svg\" alt=\"Open In Colab\"/></a>"
      ]
    },
    {
      "cell_type": "code",
      "metadata": {
        "id": "871mVOB-oLko",
        "colab_type": "code",
        "colab": {
          "base_uri": "https://localhost:8080/",
          "height": 1000
        },
        "outputId": "634f231c-556e-4b9d-e634-aadd64bece31"
      },
      "source": [
        "#!pip install tensorflow-gpu==2.0.0"
      ],
      "execution_count": 1,
      "outputs": [
        {
          "output_type": "stream",
          "text": [
            "Collecting tensorflow-gpu==2.0.0\n",
            "\u001b[?25l  Downloading https://files.pythonhosted.org/packages/25/44/47f0722aea081697143fbcf5d2aa60d1aee4aaacb5869aee2b568974777b/tensorflow_gpu-2.0.0-cp36-cp36m-manylinux2010_x86_64.whl (380.8MB)\n",
            "\u001b[K     |████████████████████████████████| 380.8MB 42kB/s \n",
            "\u001b[?25hCollecting gast==0.2.2\n",
            "  Downloading https://files.pythonhosted.org/packages/4e/35/11749bf99b2d4e3cceb4d55ca22590b0d7c2c62b9de38ac4a4a7f4687421/gast-0.2.2.tar.gz\n",
            "Collecting tensorboard<2.1.0,>=2.0.0\n",
            "\u001b[?25l  Downloading https://files.pythonhosted.org/packages/76/54/99b9d5d52d5cb732f099baaaf7740403e83fe6b0cedde940fabd2b13d75a/tensorboard-2.0.2-py3-none-any.whl (3.8MB)\n",
            "\u001b[K     |████████████████████████████████| 3.8MB 47.8MB/s \n",
            "\u001b[?25hCollecting tensorflow-estimator<2.1.0,>=2.0.0\n",
            "\u001b[?25l  Downloading https://files.pythonhosted.org/packages/fc/08/8b927337b7019c374719145d1dceba21a8bb909b93b1ad6f8fb7d22c1ca1/tensorflow_estimator-2.0.1-py2.py3-none-any.whl (449kB)\n",
            "\u001b[K     |████████████████████████████████| 450kB 41.7MB/s \n",
            "\u001b[?25hRequirement already satisfied: astor>=0.6.0 in /usr/local/lib/python3.6/dist-packages (from tensorflow-gpu==2.0.0) (0.8.1)\n",
            "Requirement already satisfied: numpy<2.0,>=1.16.0 in /usr/local/lib/python3.6/dist-packages (from tensorflow-gpu==2.0.0) (1.18.3)\n",
            "Requirement already satisfied: absl-py>=0.7.0 in /usr/local/lib/python3.6/dist-packages (from tensorflow-gpu==2.0.0) (0.9.0)\n",
            "Requirement already satisfied: keras-preprocessing>=1.0.5 in /usr/local/lib/python3.6/dist-packages (from tensorflow-gpu==2.0.0) (1.1.0)\n",
            "Requirement already satisfied: wrapt>=1.11.1 in /usr/local/lib/python3.6/dist-packages (from tensorflow-gpu==2.0.0) (1.12.1)\n",
            "Requirement already satisfied: termcolor>=1.1.0 in /usr/local/lib/python3.6/dist-packages (from tensorflow-gpu==2.0.0) (1.1.0)\n",
            "Requirement already satisfied: grpcio>=1.8.6 in /usr/local/lib/python3.6/dist-packages (from tensorflow-gpu==2.0.0) (1.28.1)\n",
            "Requirement already satisfied: opt-einsum>=2.3.2 in /usr/local/lib/python3.6/dist-packages (from tensorflow-gpu==2.0.0) (3.2.1)\n",
            "Requirement already satisfied: keras-applications>=1.0.8 in /usr/local/lib/python3.6/dist-packages (from tensorflow-gpu==2.0.0) (1.0.8)\n",
            "Requirement already satisfied: six>=1.10.0 in /usr/local/lib/python3.6/dist-packages (from tensorflow-gpu==2.0.0) (1.12.0)\n",
            "Requirement already satisfied: google-pasta>=0.1.6 in /usr/local/lib/python3.6/dist-packages (from tensorflow-gpu==2.0.0) (0.2.0)\n",
            "Requirement already satisfied: protobuf>=3.6.1 in /usr/local/lib/python3.6/dist-packages (from tensorflow-gpu==2.0.0) (3.10.0)\n",
            "Requirement already satisfied: wheel>=0.26 in /usr/local/lib/python3.6/dist-packages (from tensorflow-gpu==2.0.0) (0.34.2)\n",
            "Requirement already satisfied: requests<3,>=2.21.0 in /usr/local/lib/python3.6/dist-packages (from tensorboard<2.1.0,>=2.0.0->tensorflow-gpu==2.0.0) (2.23.0)\n",
            "Requirement already satisfied: setuptools>=41.0.0 in /usr/local/lib/python3.6/dist-packages (from tensorboard<2.1.0,>=2.0.0->tensorflow-gpu==2.0.0) (46.1.3)\n",
            "Requirement already satisfied: markdown>=2.6.8 in /usr/local/lib/python3.6/dist-packages (from tensorboard<2.1.0,>=2.0.0->tensorflow-gpu==2.0.0) (3.2.1)\n",
            "Requirement already satisfied: google-auth<2,>=1.6.3 in /usr/local/lib/python3.6/dist-packages (from tensorboard<2.1.0,>=2.0.0->tensorflow-gpu==2.0.0) (1.7.2)\n",
            "Requirement already satisfied: google-auth-oauthlib<0.5,>=0.4.1 in /usr/local/lib/python3.6/dist-packages (from tensorboard<2.1.0,>=2.0.0->tensorflow-gpu==2.0.0) (0.4.1)\n",
            "Requirement already satisfied: werkzeug>=0.11.15 in /usr/local/lib/python3.6/dist-packages (from tensorboard<2.1.0,>=2.0.0->tensorflow-gpu==2.0.0) (1.0.1)\n",
            "Requirement already satisfied: h5py in /usr/local/lib/python3.6/dist-packages (from keras-applications>=1.0.8->tensorflow-gpu==2.0.0) (2.10.0)\n",
            "Requirement already satisfied: idna<3,>=2.5 in /usr/local/lib/python3.6/dist-packages (from requests<3,>=2.21.0->tensorboard<2.1.0,>=2.0.0->tensorflow-gpu==2.0.0) (2.9)\n",
            "Requirement already satisfied: chardet<4,>=3.0.2 in /usr/local/lib/python3.6/dist-packages (from requests<3,>=2.21.0->tensorboard<2.1.0,>=2.0.0->tensorflow-gpu==2.0.0) (3.0.4)\n",
            "Requirement already satisfied: urllib3!=1.25.0,!=1.25.1,<1.26,>=1.21.1 in /usr/local/lib/python3.6/dist-packages (from requests<3,>=2.21.0->tensorboard<2.1.0,>=2.0.0->tensorflow-gpu==2.0.0) (1.24.3)\n",
            "Requirement already satisfied: certifi>=2017.4.17 in /usr/local/lib/python3.6/dist-packages (from requests<3,>=2.21.0->tensorboard<2.1.0,>=2.0.0->tensorflow-gpu==2.0.0) (2020.4.5.1)\n",
            "Requirement already satisfied: rsa<4.1,>=3.1.4 in /usr/local/lib/python3.6/dist-packages (from google-auth<2,>=1.6.3->tensorboard<2.1.0,>=2.0.0->tensorflow-gpu==2.0.0) (4.0)\n",
            "Requirement already satisfied: pyasn1-modules>=0.2.1 in /usr/local/lib/python3.6/dist-packages (from google-auth<2,>=1.6.3->tensorboard<2.1.0,>=2.0.0->tensorflow-gpu==2.0.0) (0.2.8)\n",
            "Requirement already satisfied: cachetools<3.2,>=2.0.0 in /usr/local/lib/python3.6/dist-packages (from google-auth<2,>=1.6.3->tensorboard<2.1.0,>=2.0.0->tensorflow-gpu==2.0.0) (3.1.1)\n",
            "Requirement already satisfied: requests-oauthlib>=0.7.0 in /usr/local/lib/python3.6/dist-packages (from google-auth-oauthlib<0.5,>=0.4.1->tensorboard<2.1.0,>=2.0.0->tensorflow-gpu==2.0.0) (1.3.0)\n",
            "Requirement already satisfied: pyasn1>=0.1.3 in /usr/local/lib/python3.6/dist-packages (from rsa<4.1,>=3.1.4->google-auth<2,>=1.6.3->tensorboard<2.1.0,>=2.0.0->tensorflow-gpu==2.0.0) (0.4.8)\n",
            "Requirement already satisfied: oauthlib>=3.0.0 in /usr/local/lib/python3.6/dist-packages (from requests-oauthlib>=0.7.0->google-auth-oauthlib<0.5,>=0.4.1->tensorboard<2.1.0,>=2.0.0->tensorflow-gpu==2.0.0) (3.1.0)\n",
            "Building wheels for collected packages: gast\n",
            "  Building wheel for gast (setup.py) ... \u001b[?25l\u001b[?25hdone\n",
            "  Created wheel for gast: filename=gast-0.2.2-cp36-none-any.whl size=7540 sha256=9f987da9fd9c54fd8d4a97da04f9249d3b7d2804d187a27683e11e9462dc48a6\n",
            "  Stored in directory: /root/.cache/pip/wheels/5c/2e/7e/a1d4d4fcebe6c381f378ce7743a3ced3699feb89bcfbdadadd\n",
            "Successfully built gast\n",
            "\u001b[31mERROR: tensorflow 2.2.0rc3 has requirement gast==0.3.3, but you'll have gast 0.2.2 which is incompatible.\u001b[0m\n",
            "\u001b[31mERROR: tensorflow 2.2.0rc3 has requirement tensorboard<2.3.0,>=2.2.0, but you'll have tensorboard 2.0.2 which is incompatible.\u001b[0m\n",
            "\u001b[31mERROR: tensorflow 2.2.0rc3 has requirement tensorflow-estimator<2.3.0,>=2.2.0rc0, but you'll have tensorflow-estimator 2.0.1 which is incompatible.\u001b[0m\n",
            "\u001b[31mERROR: tensorflow-probability 0.10.0rc0 has requirement gast>=0.3.2, but you'll have gast 0.2.2 which is incompatible.\u001b[0m\n",
            "Installing collected packages: gast, tensorboard, tensorflow-estimator, tensorflow-gpu\n",
            "  Found existing installation: gast 0.3.3\n",
            "    Uninstalling gast-0.3.3:\n",
            "      Successfully uninstalled gast-0.3.3\n",
            "  Found existing installation: tensorboard 2.2.1\n",
            "    Uninstalling tensorboard-2.2.1:\n",
            "      Successfully uninstalled tensorboard-2.2.1\n",
            "  Found existing installation: tensorflow-estimator 2.2.0\n",
            "    Uninstalling tensorflow-estimator-2.2.0:\n",
            "      Successfully uninstalled tensorflow-estimator-2.2.0\n",
            "Successfully installed gast-0.2.2 tensorboard-2.0.2 tensorflow-estimator-2.0.1 tensorflow-gpu-2.0.0\n"
          ],
          "name": "stdout"
        }
      ]
    },
    {
      "cell_type": "code",
      "metadata": {
        "id": "v-KRbYSRoIM3",
        "colab_type": "code",
        "colab": {}
      },
      "source": [
        "import numpy as np\n",
        "import matplotlib.pyplot as plt\n",
        "import tensorflow as tf\n",
        "from tensorflow.keras.datasets import imdb\n",
        "from tensorflow.keras.models import Sequential\n",
        "from tensorflow.keras.layers import Dense, SimpleRNN\n",
        "from tensorflow.keras.preprocessing import sequence"
      ],
      "execution_count": 0,
      "outputs": []
    },
    {
      "cell_type": "code",
      "metadata": {
        "id": "03oZ6sy8oIM6",
        "colab_type": "code",
        "colab": {
          "base_uri": "https://localhost:8080/",
          "height": 53
        },
        "outputId": "a1490de2-f488-4e24-866a-30ecd1adcb38"
      },
      "source": [
        "# IMDB 영화 리뷰 데이터 불러들임\n",
        "(x_train_all, y_train_all), (x_test, y_test) = imdb.load_data(skip_top=20, num_words=100)"
      ],
      "execution_count": 3,
      "outputs": [
        {
          "output_type": "stream",
          "text": [
            "Downloading data from https://storage.googleapis.com/tensorflow/tf-keras-datasets/imdb.npz\n",
            "17465344/17464789 [==============================] - 0s 0us/step\n"
          ],
          "name": "stdout"
        }
      ]
    },
    {
      "cell_type": "code",
      "metadata": {
        "id": "vEujzo7toINX",
        "colab_type": "code",
        "colab": {}
      },
      "source": [
        "# 리뷰 데이터를 섞고 훈련세트와 검증세트로 나눔\n",
        "np.random.seed(42)\n",
        "random_index = np.random.permutation(25000)\n",
        "\n",
        "x_train = x_train_all[random_index[:20000]]\n",
        "y_train = y_train_all[random_index[:20000]]\n",
        "x_val = x_train_all[random_index[20000:]]\n",
        "y_val = y_train_all[random_index[20000:]]"
      ],
      "execution_count": 0,
      "outputs": []
    },
    {
      "cell_type": "code",
      "metadata": {
        "id": "xvVuzLdIoINa",
        "colab_type": "code",
        "colab": {}
      },
      "source": [
        "# 모든 훈련 데이터를 100개로 자르거나 패딩 추가\n",
        "maxlen=100\n",
        "x_train_seq = sequence.pad_sequences(x_train, maxlen=maxlen)\n",
        "x_val_seq = sequence.pad_sequences(x_val, maxlen=maxlen)"
      ],
      "execution_count": 0,
      "outputs": []
    },
    {
      "cell_type": "code",
      "metadata": {
        "scrolled": true,
        "id": "9wbKo7R-oINi",
        "colab_type": "code",
        "colab": {}
      },
      "source": [
        "from tensorflow.keras.utils import to_categorical\n",
        "\n",
        "# 원-핫 인코딩\n",
        "x_train_onehot = to_categorical(x_train_seq)\n",
        "x_val_onehot = to_categorical(x_val_seq)"
      ],
      "execution_count": 0,
      "outputs": []
    },
    {
      "cell_type": "code",
      "metadata": {
        "id": "86zNAfPUoINs",
        "colab_type": "code",
        "colab": {
          "base_uri": "https://localhost:8080/",
          "height": 233
        },
        "outputId": "c7be4cfc-9d9a-4c38-ba59-6cc43377cefc"
      },
      "source": [
        "# 모델 생성\n",
        "model = Sequential()\n",
        "\n",
        "model.add(SimpleRNN(32, input_shape=(100, 100)))\n",
        "model.add(Dense(1, activation='sigmoid'))\n",
        "\n",
        "model.summary()"
      ],
      "execution_count": 7,
      "outputs": [
        {
          "output_type": "stream",
          "text": [
            "Model: \"sequential\"\n",
            "_________________________________________________________________\n",
            "Layer (type)                 Output Shape              Param #   \n",
            "=================================================================\n",
            "simple_rnn (SimpleRNN)       (None, 32)                4256      \n",
            "_________________________________________________________________\n",
            "dense (Dense)                (None, 1)                 33        \n",
            "=================================================================\n",
            "Total params: 4,289\n",
            "Trainable params: 4,289\n",
            "Non-trainable params: 0\n",
            "_________________________________________________________________\n"
          ],
          "name": "stdout"
        }
      ]
    },
    {
      "cell_type": "code",
      "metadata": {
        "id": "LPbc0HHsoIN0",
        "colab_type": "code",
        "colab": {
          "base_uri": "https://localhost:8080/",
          "height": 755
        },
        "outputId": "81f88e25-88f1-4b99-ec96-9ea7cce2b78d"
      },
      "source": [
        "# 모델 컴파일 후 훈련\n",
        "# 최적화 함수 : 확률적 경사 하강법, 손실함수 : 로지스틱회귀함수(이진분류)\n",
        "model.compile(optimizer='sgd', loss='binary_crossentropy', metrics=['accuracy'])\n",
        "\n",
        "history = model.fit(x_train_onehot, y_train, epochs=20, batch_size=32, \n",
        "                    validation_data=(x_val_onehot, y_val))"
      ],
      "execution_count": 8,
      "outputs": [
        {
          "output_type": "stream",
          "text": [
            "Train on 20000 samples, validate on 5000 samples\n",
            "Epoch 1/20\n",
            "20000/20000 [==============================] - 22s 1ms/sample - loss: 0.6973 - accuracy: 0.4952 - val_loss: 0.6950 - val_accuracy: 0.5040\n",
            "Epoch 2/20\n",
            "20000/20000 [==============================] - 18s 913us/sample - loss: 0.6950 - accuracy: 0.5020 - val_loss: 0.6943 - val_accuracy: 0.4940\n",
            "Epoch 3/20\n",
            "20000/20000 [==============================] - 18s 914us/sample - loss: 0.6939 - accuracy: 0.5080 - val_loss: 0.6942 - val_accuracy: 0.4990\n",
            "Epoch 4/20\n",
            "20000/20000 [==============================] - 18s 912us/sample - loss: 0.6935 - accuracy: 0.5095 - val_loss: 0.6932 - val_accuracy: 0.5158\n",
            "Epoch 5/20\n",
            "20000/20000 [==============================] - 18s 911us/sample - loss: 0.6927 - accuracy: 0.5117 - val_loss: 0.6929 - val_accuracy: 0.5176\n",
            "Epoch 6/20\n",
            "20000/20000 [==============================] - 18s 924us/sample - loss: 0.6921 - accuracy: 0.5170 - val_loss: 0.6927 - val_accuracy: 0.5226\n",
            "Epoch 7/20\n",
            "20000/20000 [==============================] - 18s 917us/sample - loss: 0.6918 - accuracy: 0.5207 - val_loss: 0.6922 - val_accuracy: 0.5230\n",
            "Epoch 8/20\n",
            "20000/20000 [==============================] - 18s 919us/sample - loss: 0.6914 - accuracy: 0.5221 - val_loss: 0.6921 - val_accuracy: 0.5188\n",
            "Epoch 9/20\n",
            "20000/20000 [==============================] - 19s 930us/sample - loss: 0.6906 - accuracy: 0.5279 - val_loss: 0.6914 - val_accuracy: 0.5244\n",
            "Epoch 10/20\n",
            "20000/20000 [==============================] - 18s 915us/sample - loss: 0.6899 - accuracy: 0.5293 - val_loss: 0.6936 - val_accuracy: 0.5174\n",
            "Epoch 11/20\n",
            "20000/20000 [==============================] - 18s 916us/sample - loss: 0.6893 - accuracy: 0.5338 - val_loss: 0.6910 - val_accuracy: 0.5246\n",
            "Epoch 12/20\n",
            "20000/20000 [==============================] - 18s 914us/sample - loss: 0.6888 - accuracy: 0.5362 - val_loss: 0.6917 - val_accuracy: 0.5262\n",
            "Epoch 13/20\n",
            "20000/20000 [==============================] - 18s 914us/sample - loss: 0.6880 - accuracy: 0.5391 - val_loss: 0.6890 - val_accuracy: 0.5340\n",
            "Epoch 14/20\n",
            "20000/20000 [==============================] - 18s 914us/sample - loss: 0.6873 - accuracy: 0.5411 - val_loss: 0.6925 - val_accuracy: 0.5226\n",
            "Epoch 15/20\n",
            "20000/20000 [==============================] - 18s 922us/sample - loss: 0.6857 - accuracy: 0.5465 - val_loss: 0.6950 - val_accuracy: 0.5174\n",
            "Epoch 16/20\n",
            "20000/20000 [==============================] - 18s 918us/sample - loss: 0.6858 - accuracy: 0.5472 - val_loss: 0.6871 - val_accuracy: 0.5374\n",
            "Epoch 17/20\n",
            "20000/20000 [==============================] - 18s 923us/sample - loss: 0.6840 - accuracy: 0.5536 - val_loss: 0.6870 - val_accuracy: 0.5466\n",
            "Epoch 18/20\n",
            "20000/20000 [==============================] - 18s 920us/sample - loss: 0.6811 - accuracy: 0.5622 - val_loss: 0.6903 - val_accuracy: 0.5360\n",
            "Epoch 19/20\n",
            "20000/20000 [==============================] - 18s 919us/sample - loss: 0.6800 - accuracy: 0.5640 - val_loss: 0.6861 - val_accuracy: 0.5490\n",
            "Epoch 20/20\n",
            "20000/20000 [==============================] - 18s 918us/sample - loss: 0.6781 - accuracy: 0.5716 - val_loss: 0.6851 - val_accuracy: 0.5492\n"
          ],
          "name": "stdout"
        }
      ]
    },
    {
      "cell_type": "code",
      "metadata": {
        "id": "UFK7amiGqN_H",
        "colab_type": "code",
        "colab": {
          "base_uri": "https://localhost:8080/",
          "height": 513
        },
        "outputId": "0c9a7ff7-f4c6-4b26-d322-73f67006d03c"
      },
      "source": [
        "plt.plot(history.history['loss'])\n",
        "plt.plot(history.history['val_loss'])\n",
        "plt.show()\n",
        "\n",
        "plt.plot(history.history['accuracy'])\n",
        "plt.plot(history.history['val_accuracy'])\n",
        "plt.show()\n",
        "\n",
        "# 과대적합 현상이 나타남"
      ],
      "execution_count": 9,
      "outputs": [
        {
          "output_type": "display_data",
          "data": {
            "image/png": "[encoded data removed]",
            "text/plain": [
              "<Figure size 432x288 with 1 Axes>"
            ]
          },
          "metadata": {
            "tags": [],
            "needs_background": "light"
          }
        },
        {
          "output_type": "display_data",
          "data": {
            "image/png": "[encoded data removed]",
            "text/plain": [
              "<Figure size 432x288 with 1 Axes>"
            ]
          },
          "metadata": {
            "tags": [],
            "needs_background": "light"
          }
        }
      ]
    },
    {
      "cell_type": "code",
      "metadata": {
        "id": "KXNW_UCNuDhd",
        "colab_type": "code",
        "colab": {
          "base_uri": "https://localhost:8080/",
          "height": 35
        },
        "outputId": "ce4b4397-e328-45f8-aff7-e504719e3b4e"
      },
      "source": [
        "loss, accuracy = model.evaluate(x_val_onehot, y_val, verbose=0)\n",
        "print(accuracy)"
      ],
      "execution_count": 10,
      "outputs": [
        {
          "output_type": "stream",
          "text": [
            "0.5492\n"
          ],
          "name": "stdout"
        }
      ]
    },
    {
      "cell_type": "markdown",
      "metadata": {
        "id": "pH-_WSQDu4DL",
        "colab_type": "text"
      },
      "source": [
        "정확도가 너무 낮음"
      ]
    },
    {
      "cell_type": "code",
      "metadata": {
        "id": "6inf706vuLF7",
        "colab_type": "code",
        "colab": {
          "base_uri": "https://localhost:8080/",
          "height": 269
        },
        "outputId": "10620864-a197-4217-bfc1-c13ddbafbdde"
      },
      "source": [
        "# 원-핫 인코딩은 단어 사이의 연관성을 나타내주지 못하고 입력데이터 크기와 사용할 수 있는 단어의 수가 제한됨\n",
        "# 단어 임베딩으로 데이터 전처리 후 다시 학습\n",
        "from tensorflow.keras.layers import Embedding\n",
        "\n",
        "# 단어 임배딩은 단어의 갯수에 제한을 받지 않으므로 갯수를 늘림\n",
        "(x_train_all, y_train_all), (x_test, y_test) = imdb.load_data(skip_top=20, num_words=1000)\n",
        "\n",
        "for i in range(len(x_train_all)):\n",
        "    x_train_all[i] = [w for w in x_train_all[i] if w > 2]\n",
        "    \n",
        "x_train = x_train_all[random_index[:20000]]\n",
        "y_train = y_train_all[random_index[:20000]]\n",
        "x_val = x_train_all[random_index[20000:]]\n",
        "y_val = y_train_all[random_index[20000:]]\n",
        "\n",
        "maxlen=100\n",
        "x_train_seq = sequence.pad_sequences(x_train, maxlen=maxlen)\n",
        "x_val_seq = sequence.pad_sequences(x_val, maxlen=maxlen)\n",
        "\n",
        "model_ebd = Sequential()\n",
        "\n",
        "# 학습 효율을 위해 입력백터의 크기와 RNN셀 갯수를 줄임\n",
        "model_ebd.add(Embedding(1000, 32))\n",
        "model_ebd.add(SimpleRNN(8))\n",
        "model_ebd.add(Dense(1, activation='sigmoid'))\n",
        "\n",
        "model_ebd.summary()"
      ],
      "execution_count": 11,
      "outputs": [
        {
          "output_type": "stream",
          "text": [
            "Model: \"sequential_1\"\n",
            "_________________________________________________________________\n",
            "Layer (type)                 Output Shape              Param #   \n",
            "=================================================================\n",
            "embedding (Embedding)        (None, None, 32)          32000     \n",
            "_________________________________________________________________\n",
            "simple_rnn_1 (SimpleRNN)     (None, 8)                 328       \n",
            "_________________________________________________________________\n",
            "dense_1 (Dense)              (None, 1)                 9         \n",
            "=================================================================\n",
            "Total params: 32,337\n",
            "Trainable params: 32,337\n",
            "Non-trainable params: 0\n",
            "_________________________________________________________________\n"
          ],
          "name": "stdout"
        }
      ]
    },
    {
      "cell_type": "code",
      "metadata": {
        "id": "yGkWoPcHvDHA",
        "colab_type": "code",
        "colab": {
          "base_uri": "https://localhost:8080/",
          "height": 395
        },
        "outputId": "c32eae07-2bd1-4f48-cd27-a554bcb8c8a8"
      },
      "source": [
        "model_ebd.compile(optimizer='adam', loss='binary_crossentropy', metrics=['accuracy'])\n",
        "\n",
        "history = model_ebd.fit(x_train_seq, y_train, epochs=10, batch_size=32, \n",
        "                        validation_data=(x_val_seq, y_val))"
      ],
      "execution_count": 12,
      "outputs": [
        {
          "output_type": "stream",
          "text": [
            "Train on 20000 samples, validate on 5000 samples\n",
            "Epoch 1/10\n",
            "20000/20000 [==============================] - 19s 945us/sample - loss: 0.6339 - accuracy: 0.6215 - val_loss: 0.5154 - val_accuracy: 0.7534\n",
            "Epoch 2/10\n",
            "20000/20000 [==============================] - 18s 896us/sample - loss: 0.4478 - accuracy: 0.8009 - val_loss: 0.4702 - val_accuracy: 0.7902\n",
            "Epoch 3/10\n",
            "20000/20000 [==============================] - 18s 904us/sample - loss: 0.4033 - accuracy: 0.8267 - val_loss: 0.4650 - val_accuracy: 0.7952\n",
            "Epoch 4/10\n",
            "20000/20000 [==============================] - 18s 906us/sample - loss: 0.3533 - accuracy: 0.8543 - val_loss: 0.4531 - val_accuracy: 0.7966\n",
            "Epoch 5/10\n",
            "20000/20000 [==============================] - 18s 900us/sample - loss: 0.3178 - accuracy: 0.8729 - val_loss: 0.4493 - val_accuracy: 0.8148\n",
            "Epoch 6/10\n",
            "20000/20000 [==============================] - 18s 900us/sample - loss: 0.2944 - accuracy: 0.8830 - val_loss: 0.4604 - val_accuracy: 0.8134\n",
            "Epoch 7/10\n",
            "20000/20000 [==============================] - 18s 896us/sample - loss: 0.2703 - accuracy: 0.8945 - val_loss: 0.4789 - val_accuracy: 0.8072\n",
            "Epoch 8/10\n",
            "20000/20000 [==============================] - 18s 896us/sample - loss: 0.2495 - accuracy: 0.9036 - val_loss: 0.5411 - val_accuracy: 0.8068\n",
            "Epoch 9/10\n",
            "20000/20000 [==============================] - 18s 900us/sample - loss: 0.2404 - accuracy: 0.9081 - val_loss: 0.5069 - val_accuracy: 0.8080\n",
            "Epoch 10/10\n",
            "20000/20000 [==============================] - 18s 897us/sample - loss: 0.2290 - accuracy: 0.9133 - val_loss: 0.5706 - val_accuracy: 0.7860\n"
          ],
          "name": "stdout"
        }
      ]
    },
    {
      "cell_type": "code",
      "metadata": {
        "id": "7r34UKY4vo1v",
        "colab_type": "code",
        "colab": {
          "base_uri": "https://localhost:8080/",
          "height": 533
        },
        "outputId": "d0541370-dc36-4d51-b46f-81a481fc4dd7"
      },
      "source": [
        "plt.plot(history.history['loss'])\n",
        "plt.plot(history.history['val_loss'])\n",
        "plt.show()\n",
        "\n",
        "plt.plot(history.history['accuracy'])\n",
        "plt.plot(history.history['val_accuracy'])\n",
        "plt.show()\n",
        "\n",
        "loss, accuracy = model_ebd.evaluate(x_val_seq, y_val, verbose=0)\n",
        "print(accuracy)"
      ],
      "execution_count": 13,
      "outputs": [
        {
          "output_type": "display_data",
          "data": {
            "image/png": "[encoded data removed]",
            "text/plain": [
              "<Figure size 432x288 with 1 Axes>"
            ]
          },
          "metadata": {
            "tags": [],
            "needs_background": "light"
          }
        },
        {
          "output_type": "display_data",
          "data": {
            "image/png": "[encoded data removed]",
            "text/plain": [
              "<Figure size 432x288 with 1 Axes>"
            ]
          },
          "metadata": {
            "tags": [],
            "needs_background": "light"
          }
        },
        {
          "output_type": "stream",
          "text": [
            "0.786\n"
          ],
          "name": "stdout"
        }
      ]
    },
    {
      "cell_type": "markdown",
      "metadata": {
        "id": "64Am8UoYwkRp",
        "colab_type": "text"
      },
      "source": [
        "정확도 상승"
      ]
    },
    {
      "cell_type": "code",
      "metadata": {
        "id": "4ry_U1szwizm",
        "colab_type": "code",
        "colab": {
          "base_uri": "https://localhost:8080/",
          "height": 269
        },
        "outputId": "c61adbf0-2187-4cc2-db44-9f1487d17481"
      },
      "source": [
        "# LSTM 순환 신경망 만들기\n",
        "from tensorflow.keras.layers import LSTM\n",
        "\n",
        "model_lstm = Sequential()\n",
        "\n",
        "model_lstm.add(Embedding(1000, 32))\n",
        "# simpleRNN이 아니라 LSTM을 사용\n",
        "model_lstm.add(LSTM(8))\n",
        "model_lstm.add(Dense(1, activation='sigmoid'))\n",
        "\n",
        "model_lstm.summary()"
      ],
      "execution_count": 14,
      "outputs": [
        {
          "output_type": "stream",
          "text": [
            "Model: \"sequential_2\"\n",
            "_________________________________________________________________\n",
            "Layer (type)                 Output Shape              Param #   \n",
            "=================================================================\n",
            "embedding_1 (Embedding)      (None, None, 32)          32000     \n",
            "_________________________________________________________________\n",
            "lstm (LSTM)                  (None, 8)                 1312      \n",
            "_________________________________________________________________\n",
            "dense_2 (Dense)              (None, 1)                 9         \n",
            "=================================================================\n",
            "Total params: 33,321\n",
            "Trainable params: 33,321\n",
            "Non-trainable params: 0\n",
            "_________________________________________________________________\n"
          ],
          "name": "stdout"
        }
      ]
    },
    {
      "cell_type": "code",
      "metadata": {
        "id": "TZ_Z6NlbyV0z",
        "colab_type": "code",
        "colab": {
          "base_uri": "https://localhost:8080/",
          "height": 395
        },
        "outputId": "0ec4c64a-e4d4-4119-a2a6-f578617c5987"
      },
      "source": [
        "model_lstm.compile(optimizer='adam', loss='binary_crossentropy', metrics=['accuracy'])\n",
        "\n",
        "history = model_lstm.fit(x_train_seq, y_train, epochs=10, batch_size=32, \n",
        "                         validation_data=(x_val_seq, y_val))"
      ],
      "execution_count": 15,
      "outputs": [
        {
          "output_type": "stream",
          "text": [
            "Train on 20000 samples, validate on 5000 samples\n",
            "Epoch 1/10\n",
            "20000/20000 [==============================] - 29s 1ms/sample - loss: 0.4833 - accuracy: 0.7755 - val_loss: 0.3924 - val_accuracy: 0.8314\n",
            "Epoch 2/10\n",
            "20000/20000 [==============================] - 27s 1ms/sample - loss: 0.3455 - accuracy: 0.8558 - val_loss: 0.3675 - val_accuracy: 0.8406\n",
            "Epoch 3/10\n",
            "20000/20000 [==============================] - 27s 1ms/sample - loss: 0.3128 - accuracy: 0.8687 - val_loss: 0.3519 - val_accuracy: 0.8472\n",
            "Epoch 4/10\n",
            "20000/20000 [==============================] - 27s 1ms/sample - loss: 0.2920 - accuracy: 0.8800 - val_loss: 0.3615 - val_accuracy: 0.8446\n",
            "Epoch 5/10\n",
            "20000/20000 [==============================] - 27s 1ms/sample - loss: 0.2766 - accuracy: 0.8857 - val_loss: 0.3667 - val_accuracy: 0.8454\n",
            "Epoch 6/10\n",
            "20000/20000 [==============================] - 27s 1ms/sample - loss: 0.2653 - accuracy: 0.8896 - val_loss: 0.3839 - val_accuracy: 0.8346\n",
            "Epoch 7/10\n",
            "20000/20000 [==============================] - 27s 1ms/sample - loss: 0.2490 - accuracy: 0.8972 - val_loss: 0.3794 - val_accuracy: 0.8302\n",
            "Epoch 8/10\n",
            "20000/20000 [==============================] - 27s 1ms/sample - loss: 0.2410 - accuracy: 0.9011 - val_loss: 0.3981 - val_accuracy: 0.8356\n",
            "Epoch 9/10\n",
            "20000/20000 [==============================] - 27s 1ms/sample - loss: 0.2263 - accuracy: 0.9068 - val_loss: 0.4143 - val_accuracy: 0.8356\n",
            "Epoch 10/10\n",
            "20000/20000 [==============================] - 26s 1ms/sample - loss: 0.2182 - accuracy: 0.9110 - val_loss: 0.4187 - val_accuracy: 0.8298\n"
          ],
          "name": "stdout"
        }
      ]
    },
    {
      "cell_type": "code",
      "metadata": {
        "id": "FOKhYSWhygc2",
        "colab_type": "code",
        "colab": {
          "base_uri": "https://localhost:8080/",
          "height": 531
        },
        "outputId": "68e5ef4a-7d84-41a4-dff4-ecdfbb929dd6"
      },
      "source": [
        "plt.plot(history.history['loss'])\n",
        "plt.plot(history.history['val_loss'])\n",
        "plt.show()\n",
        "\n",
        "plt.plot(history.history['accuracy'])\n",
        "plt.plot(history.history['val_accuracy'])\n",
        "plt.show()\n",
        "\n",
        "loss, accuracy = model_lstm.evaluate(x_val_seq, y_val, verbose=0)\n",
        "print(accuracy)"
      ],
      "execution_count": 16,
      "outputs": [
        {
          "output_type": "display_data",
          "data": {
            "image/png": "[encoded data removed]",
            "text/plain": [
              "<Figure size 432x288 with 1 Axes>"
            ]
          },
          "metadata": {
            "tags": [],
            "needs_background": "light"
          }
        },
        {
          "output_type": "display_data",
          "data": {
            "image/png": "[encoded data removed]",
            "text/plain": [
              "<Figure size 432x288 with 1 Axes>"
            ]
          },
          "metadata": {
            "tags": [],
            "needs_background": "light"
          }
        },
        {
          "output_type": "stream",
          "text": [
            "0.8298\n"
          ],
          "name": "stdout"
        }
      ]
    },
    {
      "cell_type": "code",
      "metadata": {
        "id": "PM2IHJOyzmYE",
        "colab_type": "code",
        "colab": {}
      },
      "source": [
        ""
      ],
      "execution_count": 0,
      "outputs": []
    }
  ]
}