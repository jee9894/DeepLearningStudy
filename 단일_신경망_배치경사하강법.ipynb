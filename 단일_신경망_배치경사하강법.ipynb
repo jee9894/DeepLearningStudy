{
  "nbformat": 4,
  "nbformat_minor": 0,
  "metadata": {
    "colab": {
      "name": "단일 신경망_배치경사하강법.ipynb",
      "provenance": [],
      "authorship_tag": "ABX9TyNVt/TRSug4uQpL/9v8DuPd",
      "include_colab_link": true
    },
    "kernelspec": {
      "name": "python3",
      "display_name": "Python 3"
    }
  },
  "cells": [
    {
      "cell_type": "markdown",
      "metadata": {
        "id": "view-in-github",
        "colab_type": "text"
      },
      "source": [
        "<a href=\"https://colab.research.google.com/github/jee9894/DeepLearningStudy/blob/master/%EB%8B%A8%EC%9D%BC_%EC%8B%A0%EA%B2%BD%EB%A7%9D_%EB%B0%B0%EC%B9%98%EA%B2%BD%EC%82%AC%ED%95%98%EA%B0%95%EB%B2%95.ipynb\" target=\"_parent\"><img src=\"https://colab.research.google.com/assets/colab-badge.svg\" alt=\"Open In Colab\"/></a>"
      ]
    },
    {
      "cell_type": "code",
      "metadata": {
        "id": "M825xx7tnzMJ",
        "colab_type": "code",
        "colab": {}
      },
      "source": [
        "from sklearn.datasets import load_breast_cancer\n",
        "from sklearn.model_selection import train_test_split\n",
        "import numpy as np\n",
        "import matplotlib.pyplot as plt\n",
        "\n",
        "cancer = load_breast_cancer()\n",
        "x = cancer.data\n",
        "y = cancer.target\n",
        "x_train_all, x_test, y_train_all, y_test = train_test_split(x, y, stratify = y, test_size = 0.2, random_state = 42)\n",
        "x_train, x_val, y_train, y_val = train_test_split(x_train_all, y_train_all, stratify = y_train_all, test_size = 0.2, random_state = 42)"
      ],
      "execution_count": 0,
      "outputs": []
    },
    {
      "cell_type": "code",
      "metadata": {
        "id": "3DHm4CAi0i4t",
        "colab_type": "code",
        "colab": {
          "base_uri": "https://localhost:8080/",
          "height": 35
        },
        "outputId": "3655c579-51e9-46c3-f14a-3c15f14c6e65"
      },
      "source": [
        "print(x_train.shape, x_val.shape )"
      ],
      "execution_count": 3,
      "outputs": [
        {
          "output_type": "stream",
          "text": [
            "(364, 30) (91, 30)\n"
          ],
          "name": "stdout"
        }
      ]
    },
    {
      "cell_type": "code",
      "metadata": {
        "id": "9F-Q8ibNpKP6",
        "colab_type": "code",
        "colab": {}
      },
      "source": [
        "class SingleLayer:\n",
        "  def __init__(self, learning_rate = 0.1, l1 = 0, l2 = 0):\n",
        "    self.w = None\n",
        "    self.b = None\n",
        "    self.losses = []\n",
        "    self.val_losses = []\n",
        "    self.w_history = []\n",
        "    self.lr = learning_rate\n",
        "    self.l1 = l1\n",
        "    self.l2 = l2\n",
        "\n",
        "  # 직선 방정식 계산\n",
        "  def forpass(self, x):\n",
        "    z = np.dot(x, self.w) + self.b\n",
        "    return z\n",
        "\n",
        "  # 그레디언트 계산\n",
        "  def backprop(self, x, err):\n",
        "    m = len(x)\n",
        "    w_grad = np.dot(x.T, err) / m\n",
        "    b_grad = np.sum(err) / m\n",
        "    return w_grad, b_grad\n",
        "\n",
        "  # 활성화 함수(시그모이드 함수) 적용하여 반환\n",
        "  def activation(self, z):\n",
        "    # np.exp는 수학적으로 안전하지 못하여 작은수나 큰수를 clip\n",
        "    z = np.clip(z, -100, None)\n",
        "    a = 1 / (1 + np.exp(-z))\n",
        "    return a\n",
        "\n",
        "  def fit(self, x, y, epochs = 100, x_val = None, y_val = None):\n",
        "    # 타깃과 검증용 타깃을 열 벡터로 바꿈\n",
        "    y = y.reshape(-1, 1)\n",
        "    y_val = y_val.reshape(-1, 1)\n",
        "\n",
        "    m = len(x)\n",
        "    self.w = np.ones((x.shape[1], 1))\n",
        "    self.b = 0\n",
        "    self.w_history.append(self.w.copy())\n",
        "\n",
        "    for i in range(epochs):\n",
        "      z = self.forpass(x)\n",
        "      a = self.activation(z)\n",
        "      err = -(y - a)\n",
        "      # 오차를 역저뉴ㅏ 하여 그레디언트 계산\n",
        "      w_grad, b_grad = self.backprop(x, err)  \n",
        "      # 그레디언트에 L1, L2 패널티항의 미분값을 더함\n",
        "      w_grad += (self.l1 * np.sign(self.w) + self.l2 * self.w) / m\n",
        "      # 가중치, 절편 업데이트\n",
        "      self.w -= w_grad * self.lr\n",
        "      self.b -= b_grad * self.lr\n",
        "      # 가중치 기록\n",
        "      self.w_history.append(self.w.copy( ))\n",
        "      a = np.clip(a, 1e-10, 1-1e-10)\n",
        "      # 에포크마다 평균 손실 저장\n",
        "      loss = np.sum(-(y*np.log(a)+(1-y)*np.log(1-a)))\n",
        "      self.losses.append((loss + self.reg_loss()) / m)\n",
        "      # 검증 세트에 대한 손실 계산\n",
        "      self.update_val_loss(x_val, y_val)\n",
        "  \n",
        "  # 예측치 y^를 알기위한 메소드 \n",
        "  def predict(self, x):\n",
        "    z = self.forpass(x)\n",
        "    return z > 0\n",
        "\n",
        "  # 정확도 계산\n",
        "  def score(self, x, y):\n",
        "    return np.mean(self.predict(x) == y.reshape(-1, 1))\n",
        "\n",
        "  def reg_loss(self):\n",
        "    # 가중치에 규제 적용\n",
        "    return self.l1 * np.sum(np.abs(self.w)) + self.l2 / 2 * np.sum(self.w**2)\n",
        "\n",
        "  def update_val_loss(self, x_val, y_val):\n",
        "    z = self.forpass(x_val)\n",
        "    a = self.activation(z)\n",
        "    a = np.clip(a, 1e-10, 1-1e-10)\n",
        "    # 로그 손실과 규제 손실을 더하여 리스트에 추가\n",
        "    val_loss = np.sum(-(y*np.log(a)+(1-y)*np.log(1-a)))\n",
        "    self.val_losses.append((val_loss + self.reg_loss()) / len(y_val))"
      ],
      "execution_count": 0,
      "outputs": []
    },
    {
      "cell_type": "code",
      "metadata": {
        "id": "hAEK2UJIFgLB",
        "colab_type": "code",
        "colab": {}
      },
      "source": [
        "from sklearn.preprocessing import StandardScaler\n",
        "scaler = StandardScaler()\n",
        "scaler.fit(x_train)\n",
        "x_train_scaled = scaler.transform(x_train)\n",
        "x_val_scaled = scaler.transform(x_val)"
      ],
      "execution_count": 0,
      "outputs": []
    },
    {
      "cell_type": "code",
      "metadata": {
        "id": "jobxkragFxYS",
        "colab_type": "code",
        "colab": {
          "base_uri": "https://localhost:8080/",
          "height": 35
        },
        "outputId": "d0482e5a-c9df-4b0b-b70a-dca767f9a7fb"
      },
      "source": [
        "single_layer = SingleLayer(l2 = 0.01)\n",
        "single_layer.fit(x_train_scaled, y_train, x_val = x_val_scaled, y_val = y_val, epochs = 10000)\n",
        "single_layer.score(x_val_scaled, y_val)"
      ],
      "execution_count": 14,
      "outputs": [
        {
          "output_type": "execute_result",
          "data": {
            "text/plain": [
              "0.978021978021978"
            ]
          },
          "metadata": {
            "tags": []
          },
          "execution_count": 14
        }
      ]
    },
    {
      "cell_type": "code",
      "metadata": {
        "id": "nxzcLatfGOKs",
        "colab_type": "code",
        "colab": {
          "base_uri": "https://localhost:8080/",
          "height": 283
        },
        "outputId": "1b3dbc4c-5b66-4948-825c-3f057908b49c"
      },
      "source": [
        "# 손실 그래프\n",
        "plt.ylim(0, 0.3)\n",
        "plt.plot(single_layer.losses)\n",
        "plt.plot(single_layer.val_losses)\n",
        "plt.ylabel('loss')\n",
        "plt.xlabel('epochs')\n",
        "plt.legend(['train_loss', 'val_loss'])\n",
        "plt.show()"
      ],
      "execution_count": 15,
      "outputs": [
        {
          "output_type": "display_data",
          "data": {
            "image/png": "[encoded data removed]",
            "text/plain": [
              "<Figure size 432x288 with 1 Axes>"
            ]
          },
          "metadata": {
            "tags": [],
            "needs_background": "light"
          }
        }
      ]
    },
    {
      "cell_type": "code",
      "metadata": {
        "id": "Co860ELPHlaQ",
        "colab_type": "code",
        "colab": {
          "base_uri": "https://localhost:8080/",
          "height": 279
        },
        "outputId": "a8145c00-6346-42cf-ca91-9d3dbe1f14a3"
      },
      "source": [
        "# 가중치 변화 그래프\n",
        "w2 = []\n",
        "w3 = []\n",
        "for w in single_layer.w_history:\n",
        "  w2.append(w[2])\n",
        "  w3.append(w[3])\n",
        "plt.plot(w2, w3)\n",
        "plt.plot(w2[-1],w3[-1],'ro')\n",
        "plt.xlabel('w[2]')\n",
        "plt.ylabel('w[3]')\n",
        "plt.show()"
      ],
      "execution_count": 17,
      "outputs": [
        {
          "output_type": "display_data",
          "data": {
            "image/png": "[encoded data removed]",
            "text/plain": [
              "<Figure size 432x288 with 1 Axes>"
            ]
          },
          "metadata": {
            "tags": [],
            "needs_background": "light"
          }
        }
      ]
    },
    {
      "cell_type": "code",
      "metadata": {
        "id": "jOWnQvZPIF-0",
        "colab_type": "code",
        "colab": {}
      },
      "source": [
        ""
      ],
      "execution_count": 0,
      "outputs": []
    }
  ]
}