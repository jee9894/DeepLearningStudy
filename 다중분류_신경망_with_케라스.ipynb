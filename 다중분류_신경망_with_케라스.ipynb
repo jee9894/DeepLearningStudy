{
  "nbformat": 4,
  "nbformat_minor": 0,
  "metadata": {
    "colab": {
      "name": "다중분류 신경망 with 케라스.ipynb",
      "provenance": [],
      "collapsed_sections": [],
      "authorship_tag": "ABX9TyNhimj/vnA9gVVZeEGMuD4l",
      "include_colab_link": true
    },
    "kernelspec": {
      "name": "python3",
      "display_name": "Python 3"
    }
  },
  "cells": [
    {
      "cell_type": "markdown",
      "metadata": {
        "id": "view-in-github",
        "colab_type": "text"
      },
      "source": [
        "<a href=\"https://colab.research.google.com/github/jee9894/DeepLearningStudy/blob/master/%EB%8B%A4%EC%A4%91%EB%B6%84%EB%A5%98_%EC%8B%A0%EA%B2%BD%EB%A7%9D_with_%EC%BC%80%EB%9D%BC%EC%8A%A4.ipynb\" target=\"_parent\"><img src=\"https://colab.research.google.com/assets/colab-badge.svg\" alt=\"Open In Colab\"/></a>"
      ]
    },
    {
      "cell_type": "code",
      "metadata": {
        "id": "Vn9J5VHsb53q",
        "colab_type": "code",
        "colab": {
          "base_uri": "https://localhost:8080/",
          "height": 161
        },
        "outputId": "8ee6c56f-5009-4d01-d3d9-60e802f2887f"
      },
      "source": [
        "import tensorflow as tf\n",
        "# 패션 MNIST 데이터 불러오기\n",
        "(x_train_all, y_train_all), (x_test, y_test) = tf.keras.datasets.fashion_mnist.load_data()"
      ],
      "execution_count": 5,
      "outputs": [
        {
          "output_type": "stream",
          "text": [
            "Downloading data from https://storage.googleapis.com/tensorflow/tf-keras-datasets/train-labels-idx1-ubyte.gz\n",
            "32768/29515 [=================================] - 0s 0us/step\n",
            "Downloading data from https://storage.googleapis.com/tensorflow/tf-keras-datasets/train-images-idx3-ubyte.gz\n",
            "26427392/26421880 [==============================] - 0s 0us/step\n",
            "Downloading data from https://storage.googleapis.com/tensorflow/tf-keras-datasets/t10k-labels-idx1-ubyte.gz\n",
            "8192/5148 [===============================================] - 0s 0us/step\n",
            "Downloading data from https://storage.googleapis.com/tensorflow/tf-keras-datasets/t10k-images-idx3-ubyte.gz\n",
            "4423680/4422102 [==============================] - 0s 0us/step\n"
          ],
          "name": "stdout"
        }
      ]
    },
    {
      "cell_type": "code",
      "metadata": {
        "id": "gzJZXpGRcPua",
        "colab_type": "code",
        "colab": {}
      },
      "source": [
        "from sklearn.model_selection import train_test_split\n",
        "\n",
        "# 훈련세트와 검증세트로 나누기\n",
        "x_train, x_val, y_train, y_val = train_test_split(x_train_all, y_train_all, stratify = y_train_all, test_size=0.2, random_state=42)\n",
        "\n",
        "# 입력 데이터 정규화\n",
        "x_train = x_train / 255\n",
        "x_val = x_val / 255\n",
        "\n",
        "# 훈련세트와 검증세트 차원 변경\n",
        "x_train = x_train.reshape(-1, 784)\n",
        "x_val = x_val.reshape(-1, 784)\n",
        "\n",
        "# 원-핫 인코딩\n",
        "y_train_encoded = tf.keras.utils.to_categorical(y_train)\n",
        "y_val_encoded = tf.keras.utils.to_categorical(y_val)"
      ],
      "execution_count": 0,
      "outputs": []
    },
    {
      "cell_type": "code",
      "metadata": {
        "id": "oYTeaHh8Zxn8",
        "colab_type": "code",
        "colab": {}
      },
      "source": [
        "from tensorflow.keras import Sequential\n",
        "from tensorflow.keras.layers import Dense\n",
        "\n",
        "# 모델 객체 생성\n",
        "model = Sequential()"
      ],
      "execution_count": 0,
      "outputs": []
    },
    {
      "cell_type": "code",
      "metadata": {
        "id": "GfZW7eXDalVz",
        "colab_type": "code",
        "colab": {}
      },
      "source": [
        "# 은닉층 모델에 추가\n",
        "model.add(Dense(100, activation='sigmoid', input_shape=(784,)))\n",
        "# 출력층 모델에 추가\n",
        "model.add(Dense(10, activation='softmax'))"
      ],
      "execution_count": 0,
      "outputs": []
    },
    {
      "cell_type": "code",
      "metadata": {
        "id": "b9JXa1dVbYmx",
        "colab_type": "code",
        "colab": {}
      },
      "source": [
        "# 최적화 알고리즘과 손실함수 지정\n",
        "model.compile(optimizer='sgd', loss='categorical_crossentropy', metrics=['accuracy'])"
      ],
      "execution_count": 0,
      "outputs": []
    },
    {
      "cell_type": "code",
      "metadata": {
        "id": "q_JchiSUbweE",
        "colab_type": "code",
        "colab": {
          "base_uri": "https://localhost:8080/",
          "height": 1000
        },
        "outputId": "89ab94f8-d099-46df-eeb6-3b4814869d6e"
      },
      "source": [
        "history = model.fit(x_train, y_train_encoded, epochs=40, validation_data=(x_val, y_val_encoded))"
      ],
      "execution_count": 7,
      "outputs": [
        {
          "output_type": "stream",
          "text": [
            "Epoch 1/40\n",
            "1500/1500 [==============================] - 3s 2ms/step - loss: 1.3679 - accuracy: 0.6629 - val_loss: 0.9427 - val_accuracy: 0.7279\n",
            "Epoch 2/40\n",
            "1500/1500 [==============================] - 3s 2ms/step - loss: 0.8276 - accuracy: 0.7442 - val_loss: 0.7402 - val_accuracy: 0.7628\n",
            "Epoch 3/40\n",
            "1500/1500 [==============================] - 3s 2ms/step - loss: 0.7031 - accuracy: 0.7657 - val_loss: 0.6578 - val_accuracy: 0.7817\n",
            "Epoch 4/40\n",
            "1500/1500 [==============================] - 3s 2ms/step - loss: 0.6414 - accuracy: 0.7803 - val_loss: 0.6092 - val_accuracy: 0.7948\n",
            "Epoch 5/40\n",
            "1500/1500 [==============================] - 3s 2ms/step - loss: 0.6012 - accuracy: 0.7932 - val_loss: 0.5745 - val_accuracy: 0.8030\n",
            "Epoch 6/40\n",
            "1500/1500 [==============================] - 3s 2ms/step - loss: 0.5721 - accuracy: 0.8031 - val_loss: 0.5485 - val_accuracy: 0.8097\n",
            "Epoch 7/40\n",
            "1500/1500 [==============================] - 3s 2ms/step - loss: 0.5495 - accuracy: 0.8106 - val_loss: 0.5296 - val_accuracy: 0.8158\n",
            "Epoch 8/40\n",
            "1500/1500 [==============================] - 3s 2ms/step - loss: 0.5319 - accuracy: 0.8170 - val_loss: 0.5129 - val_accuracy: 0.8220\n",
            "Epoch 9/40\n",
            "1500/1500 [==============================] - 3s 2ms/step - loss: 0.5175 - accuracy: 0.8215 - val_loss: 0.5018 - val_accuracy: 0.8259\n",
            "Epoch 10/40\n",
            "1500/1500 [==============================] - 3s 2ms/step - loss: 0.5056 - accuracy: 0.8257 - val_loss: 0.4895 - val_accuracy: 0.8278\n",
            "Epoch 11/40\n",
            "1500/1500 [==============================] - 3s 2ms/step - loss: 0.4955 - accuracy: 0.8273 - val_loss: 0.4808 - val_accuracy: 0.8317\n",
            "Epoch 12/40\n",
            "1500/1500 [==============================] - 3s 2ms/step - loss: 0.4862 - accuracy: 0.8309 - val_loss: 0.4713 - val_accuracy: 0.8339\n",
            "Epoch 13/40\n",
            "1500/1500 [==============================] - 3s 2ms/step - loss: 0.4789 - accuracy: 0.8333 - val_loss: 0.4665 - val_accuracy: 0.8354\n",
            "Epoch 14/40\n",
            "1500/1500 [==============================] - 3s 2ms/step - loss: 0.4718 - accuracy: 0.8356 - val_loss: 0.4577 - val_accuracy: 0.8374\n",
            "Epoch 15/40\n",
            "1500/1500 [==============================] - 3s 2ms/step - loss: 0.4656 - accuracy: 0.8373 - val_loss: 0.4519 - val_accuracy: 0.8404\n",
            "Epoch 16/40\n",
            "1500/1500 [==============================] - 3s 2ms/step - loss: 0.4599 - accuracy: 0.8387 - val_loss: 0.4465 - val_accuracy: 0.8423\n",
            "Epoch 17/40\n",
            "1500/1500 [==============================] - 3s 2ms/step - loss: 0.4546 - accuracy: 0.8417 - val_loss: 0.4414 - val_accuracy: 0.8444\n",
            "Epoch 18/40\n",
            "1500/1500 [==============================] - 3s 2ms/step - loss: 0.4501 - accuracy: 0.8428 - val_loss: 0.4370 - val_accuracy: 0.8461\n",
            "Epoch 19/40\n",
            "1500/1500 [==============================] - 3s 2ms/step - loss: 0.4454 - accuracy: 0.8445 - val_loss: 0.4343 - val_accuracy: 0.8468\n",
            "Epoch 20/40\n",
            "1500/1500 [==============================] - 3s 2ms/step - loss: 0.4415 - accuracy: 0.8450 - val_loss: 0.4299 - val_accuracy: 0.8496\n",
            "Epoch 21/40\n",
            "1500/1500 [==============================] - 3s 2ms/step - loss: 0.4372 - accuracy: 0.8470 - val_loss: 0.4271 - val_accuracy: 0.8505\n",
            "Epoch 22/40\n",
            "1500/1500 [==============================] - 3s 2ms/step - loss: 0.4338 - accuracy: 0.8475 - val_loss: 0.4231 - val_accuracy: 0.8508\n",
            "Epoch 23/40\n",
            "1500/1500 [==============================] - 3s 2ms/step - loss: 0.4302 - accuracy: 0.8481 - val_loss: 0.4200 - val_accuracy: 0.8514\n",
            "Epoch 24/40\n",
            "1500/1500 [==============================] - 3s 2ms/step - loss: 0.4270 - accuracy: 0.8501 - val_loss: 0.4184 - val_accuracy: 0.8523\n",
            "Epoch 25/40\n",
            "1500/1500 [==============================] - 3s 2ms/step - loss: 0.4236 - accuracy: 0.8512 - val_loss: 0.4157 - val_accuracy: 0.8532\n",
            "Epoch 26/40\n",
            "1500/1500 [==============================] - 3s 2ms/step - loss: 0.4211 - accuracy: 0.8517 - val_loss: 0.4133 - val_accuracy: 0.8547\n",
            "Epoch 27/40\n",
            "1500/1500 [==============================] - 3s 2ms/step - loss: 0.4180 - accuracy: 0.8530 - val_loss: 0.4106 - val_accuracy: 0.8562\n",
            "Epoch 28/40\n",
            "1500/1500 [==============================] - 3s 2ms/step - loss: 0.4156 - accuracy: 0.8537 - val_loss: 0.4103 - val_accuracy: 0.8580\n",
            "Epoch 29/40\n",
            "1500/1500 [==============================] - 3s 2ms/step - loss: 0.4130 - accuracy: 0.8546 - val_loss: 0.4057 - val_accuracy: 0.8571\n",
            "Epoch 30/40\n",
            "1500/1500 [==============================] - 3s 2ms/step - loss: 0.4105 - accuracy: 0.8552 - val_loss: 0.4033 - val_accuracy: 0.8577\n",
            "Epoch 31/40\n",
            "1500/1500 [==============================] - 3s 2ms/step - loss: 0.4081 - accuracy: 0.8561 - val_loss: 0.4035 - val_accuracy: 0.8582\n",
            "Epoch 32/40\n",
            "1500/1500 [==============================] - 3s 2ms/step - loss: 0.4058 - accuracy: 0.8559 - val_loss: 0.4018 - val_accuracy: 0.8585\n",
            "Epoch 33/40\n",
            "1500/1500 [==============================] - 3s 2ms/step - loss: 0.4035 - accuracy: 0.8577 - val_loss: 0.4001 - val_accuracy: 0.8605\n",
            "Epoch 34/40\n",
            "1500/1500 [==============================] - 3s 2ms/step - loss: 0.4016 - accuracy: 0.8578 - val_loss: 0.3985 - val_accuracy: 0.8605\n",
            "Epoch 35/40\n",
            "1500/1500 [==============================] - 3s 2ms/step - loss: 0.3995 - accuracy: 0.8588 - val_loss: 0.3943 - val_accuracy: 0.8622\n",
            "Epoch 36/40\n",
            "1500/1500 [==============================] - 3s 2ms/step - loss: 0.3977 - accuracy: 0.8596 - val_loss: 0.3932 - val_accuracy: 0.8604\n",
            "Epoch 37/40\n",
            "1500/1500 [==============================] - 3s 2ms/step - loss: 0.3955 - accuracy: 0.8600 - val_loss: 0.3925 - val_accuracy: 0.8622\n",
            "Epoch 38/40\n",
            "1500/1500 [==============================] - 3s 2ms/step - loss: 0.3938 - accuracy: 0.8610 - val_loss: 0.3896 - val_accuracy: 0.8639\n",
            "Epoch 39/40\n",
            "1500/1500 [==============================] - 3s 2ms/step - loss: 0.3918 - accuracy: 0.8608 - val_loss: 0.3888 - val_accuracy: 0.8650\n",
            "Epoch 40/40\n",
            "1500/1500 [==============================] - 3s 2ms/step - loss: 0.3903 - accuracy: 0.8620 - val_loss: 0.3871 - val_accuracy: 0.8625\n"
          ],
          "name": "stdout"
        }
      ]
    },
    {
      "cell_type": "code",
      "metadata": {
        "id": "AqgnrxCQd6c6",
        "colab_type": "code",
        "colab": {
          "base_uri": "https://localhost:8080/",
          "height": 280
        },
        "outputId": "4609dcfe-6d58-4a24-a256-5f4f648f7085"
      },
      "source": [
        "import matplotlib.pyplot as plt\n",
        "\n",
        "plt.plot(history.history['loss'])\n",
        "plt.plot(history.history['val_loss'])\n",
        "plt.ylabel('loss')\n",
        "plt.xlabel('epoch')\n",
        "plt.legend(['train_loss', 'val_loss'])\n",
        "plt.show()"
      ],
      "execution_count": 9,
      "outputs": [
        {
          "output_type": "display_data",
          "data": {
            "image/png": "[encoded data removed]",
            "text/plain": [
              "<Figure size 432x288 with 1 Axes>"
            ]
          },
          "metadata": {
            "tags": [],
            "needs_background": "light"
          }
        }
      ]
    },
    {
      "cell_type": "code",
      "metadata": {
        "id": "sFzCm_YFedBI",
        "colab_type": "code",
        "colab": {
          "base_uri": "https://localhost:8080/",
          "height": 283
        },
        "outputId": "aa1e8031-7164-4722-f436-f305d651b4b5"
      },
      "source": [
        "plt.plot(history.history['accuracy'])\n",
        "plt.plot(history.history['val_accuracy'])\n",
        "plt.ylabel('loss')\n",
        "plt.xlabel('epoch')\n",
        "plt.legend(['train_accuracy', 'val_accuracy'])\n",
        "plt.show()"
      ],
      "execution_count": 10,
      "outputs": [
        {
          "output_type": "display_data",
          "data": {
            "image/png": "[encoded data removed]",
            "text/plain": [
              "<Figure size 432x288 with 1 Axes>"
            ]
          },
          "metadata": {
            "tags": [],
            "needs_background": "light"
          }
        }
      ]
    }
  ]
}